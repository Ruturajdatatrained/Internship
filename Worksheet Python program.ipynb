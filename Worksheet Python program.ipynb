{
 "cells": [
  {
   "cell_type": "code",
   "execution_count": 1,
   "id": "8a1c0632",
   "metadata": {},
   "outputs": [
    {
     "name": "stdout",
     "output_type": "stream",
     "text": [
      "Enter a number: 3\n",
      "The factorial of 3 is 6\n"
     ]
    }
   ],
   "source": [
    "def factorial(n):\n",
    "    if n == 0 or n == 1:\n",
    "        return 1\n",
    "    else:\n",
    "        return n * factorial(n - 1)\n",
    "\n",
    "# Test the factorial function\n",
    "number = int(input(\"Enter a number: \"))\n",
    "result = factorial(number)\n",
    "print(\"The factorial of\", number, \"is\", result)"
   ]
  },
  {
   "cell_type": "code",
   "execution_count": 2,
   "id": "a77e40c6",
   "metadata": {},
   "outputs": [
    {
     "name": "stdout",
     "output_type": "stream",
     "text": [
      "Enter a number: 3\n",
      "3 is a prime number.\n"
     ]
    }
   ],
   "source": [
    "def is_prime(n):\n",
    "    if n < 2:\n",
    "        return False\n",
    "    for i in range(2, int(n ** 0.5) + 1):\n",
    "        if n % i == 0:\n",
    "            return False\n",
    "    return True\n",
    "\n",
    "# Test the is_prime function\n",
    "number = int(input(\"Enter a number: \"))\n",
    "if is_prime(number):\n",
    "    print(number, \"is a prime number.\")\n",
    "else:\n",
    "    print(number, \"is a composite number.\")"
   ]
  },
  {
   "cell_type": "code",
   "execution_count": 3,
   "id": "2a72f27c",
   "metadata": {},
   "outputs": [
    {
     "name": "stdout",
     "output_type": "stream",
     "text": [
      "Enter a string: Hello\n",
      "The string is not a palindrome.\n"
     ]
    }
   ],
   "source": [
    "def is_palindrome(s):\n",
    "    # Remove whitespace and convert to lowercase\n",
    "    s = s.replace(\" \", \"\").lower()\n",
    "    # Reverse the string\n",
    "    reversed_s = s[::-1]\n",
    "    # Check if the original and reversed strings are the same\n",
    "    if s == reversed_s:\n",
    "        return True\n",
    "    else:\n",
    "        return False\n",
    "\n",
    "# Test the is_palindrome function\n",
    "string = input(\"Enter a string: \")\n",
    "if is_palindrome(string):\n",
    "    print(\"The string is a palindrome.\")\n",
    "else:\n",
    "    print(\"The string is not a palindrome.\")\n",
    "\n",
    "\n",
    "\n",
    "\n",
    "\n",
    "\n",
    "\n"
   ]
  },
  {
   "cell_type": "code",
   "execution_count": 4,
   "id": "4eba6676",
   "metadata": {},
   "outputs": [
    {
     "name": "stdout",
     "output_type": "stream",
     "text": [
      "Enter the length of the first side: 12\n",
      "Enter the length of the second side: 10\n",
      "The length of the third side is: 15.620499351813308\n"
     ]
    }
   ],
   "source": [
    "import math\n",
    "\n",
    "def calculate_third_side(side1, side2):\n",
    "    third_side = math.sqrt(side1**2 + side2**2)\n",
    "    return third_side\n",
    "\n",
    "# Test the calculate_third_side function\n",
    "side1 = float(input(\"Enter the length of the first side: \"))\n",
    "side2 = float(input(\"Enter the length of the second side: \"))\n",
    "\n",
    "third_side = calculate_third_side(side1, side2)\n",
    "print(\"The length of the third side is:\", third_side)"
   ]
  },
  {
   "cell_type": "code",
   "execution_count": 5,
   "id": "605909f5",
   "metadata": {},
   "outputs": [
    {
     "name": "stdout",
     "output_type": "stream",
     "text": [
      "Enter a string: Ruturaj\n",
      "Character frequencies:\n",
      "R : 1\n",
      "u : 2\n",
      "t : 1\n",
      "r : 1\n",
      "a : 1\n",
      "j : 1\n"
     ]
    }
   ],
   "source": [
    "def count_characters(string):\n",
    "    frequency = {}\n",
    "    for char in string:\n",
    "        if char in frequency:\n",
    "            frequency[char] += 1\n",
    "        else:\n",
    "            frequency[char] = 1\n",
    "    return frequency\n",
    "\n",
    "# Test the count_characters function\n",
    "string = input(\"Enter a string: \")\n",
    "character_frequency = count_characters(string)\n",
    "\n",
    "print(\"Character frequencies:\")\n",
    "for char, freq in character_frequency.items():\n",
    "    print(char, \":\", freq)"
   ]
  },
  {
   "cell_type": "code",
   "execution_count": null,
   "id": "6fb2351b",
   "metadata": {},
   "outputs": [],
   "source": []
  }
 ],
 "metadata": {
  "kernelspec": {
   "display_name": "Python 3 (ipykernel)",
   "language": "python",
   "name": "python3"
  },
  "language_info": {
   "codemirror_mode": {
    "name": "ipython",
    "version": 3
   },
   "file_extension": ".py",
   "mimetype": "text/x-python",
   "name": "python",
   "nbconvert_exporter": "python",
   "pygments_lexer": "ipython3",
   "version": "3.9.13"
  }
 },
 "nbformat": 4,
 "nbformat_minor": 5
}
